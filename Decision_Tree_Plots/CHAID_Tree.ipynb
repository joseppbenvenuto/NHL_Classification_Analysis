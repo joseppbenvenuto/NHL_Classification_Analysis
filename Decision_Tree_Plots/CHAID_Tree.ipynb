{
 "cells": [
  {
   "cell_type": "code",
   "execution_count": 8,
   "metadata": {},
   "outputs": [
    {
     "data": {
      "text/html": [
       "<strong>pdf:</strong> 2"
      ],
      "text/latex": [
       "\\textbf{pdf:} 2"
      ],
      "text/markdown": [
       "**pdf:** 2"
      ],
      "text/plain": [
       "pdf \n",
       "  2 "
      ]
     },
     "metadata": {},
     "output_type": "display_data"
    },
    {
     "data": {
      "text/plain": [
       "    Length      Class       Mode \n",
       "         1 BinaryTree         S4 "
      ]
     },
     "metadata": {},
     "output_type": "display_data"
    }
   ],
   "source": [
    "library(partykit)\n",
    "library(party)\n",
    "\n",
    "#Read the data in the file\n",
    "data <- read.csv(\"Data/NHL_1983_2019_Data_Adjusted.csv\")\n",
    "data$year_range <- as.character(data$year_range)\n",
    "\n",
    "#Convert variabloes to factors\n",
    "data$name <- factor(data$name)\n",
    "data$year_range <- factor(data$year_range)\n",
    "\n",
    "# Conditional Inference Tree for Default_On_Payment\n",
    "fit <- ctree(failed_playoff_flag ~ goalsPerGame+goalsAgainstPerGame+powerPlayPercentage+penaltyKillPercentage\n",
    "             +shotsPerGame +shotsAllowed +winScoreFirst+winOppScoreFirst+winLeadFirstPer+winLeadSecondPer\n",
    "             +winOutshootOpp+winOutshotByOpp, data = data)\n",
    "\n",
    "pdf(file = \"fit.pdf\", height = 20, width = 100) \n",
    "plot(fit)\n",
    "dev.off()\n",
    "\n",
    "#detailed results including splits\n",
    "summary(fit)"
   ]
  }
 ],
 "metadata": {
  "hide_input": false,
  "kernelspec": {
   "display_name": "R",
   "language": "R",
   "name": "ir"
  },
  "language_info": {
   "codemirror_mode": "r",
   "file_extension": ".r",
   "mimetype": "text/x-r-source",
   "name": "R",
   "pygments_lexer": "r",
   "version": "4.0.3"
  },
  "toc": {
   "base_numbering": 1,
   "nav_menu": {},
   "number_sections": true,
   "sideBar": true,
   "skip_h1_title": false,
   "title_cell": "Table of Contents",
   "title_sidebar": "Contents",
   "toc_cell": false,
   "toc_position": {},
   "toc_section_display": true,
   "toc_window_display": false
  }
 },
 "nbformat": 4,
 "nbformat_minor": 4
}
